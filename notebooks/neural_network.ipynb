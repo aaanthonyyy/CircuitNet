{
  "cells": [
    {
      "attachments": {},
      "cell_type": "markdown",
      "metadata": {
        "colab_type": "text",
        "id": "view-in-github"
      },
      "source": [
        "<a href=\"https://colab.research.google.com/github/aaanthonyyy/3020-project/blob/master/notebooks/neural_network.ipynb\" target=\"_parent\"><img src=\"https://colab.research.google.com/assets/colab-badge.svg\" alt=\"Open In Colab\"/></a>"
      ]
    },
    {
      "cell_type": "code",
      "execution_count": null,
      "metadata": {
        "colab": {
          "base_uri": "https://localhost:8080/",
          "height": 35
        },
        "id": "Y31ihkv9OXcE",
        "outputId": "24a75a36-afc9-4033-bd00-0fdd774c9b26"
      },
      "outputs": [
        {
          "data": {
            "application/vnd.google.colaboratory.intrinsic+json": {
              "type": "string"
            },
            "text/plain": [
              "'2.3.0'"
            ]
          },
          "execution_count": 4,
          "metadata": {
            "tags": []
          },
          "output_type": "execute_result"
        }
      ],
      "source": [
        "import tensorflow as tf\n",
        "from tensorflow import keras\n",
        "import numpy as np\n",
        "import matplotlib.pyplot as plt\n",
        "\n",
        "tf.__version__"
      ]
    },
    {
      "cell_type": "code",
      "execution_count": null,
      "metadata": {},
      "outputs": [],
      "source": [
        "# Data Parameters\n",
        "batch_size = 512\n",
        "\n",
        "# Image Parameters\n",
        "img_height, img_width = 128, 128"
      ]
    },
    {
      "cell_type": "code",
      "execution_count": null,
      "metadata": {},
      "outputs": [],
      "source": [
        "import pathlib\n",
        "\n",
        "data_dir = pathlib.Path('dataset/circuit_dataset')"
      ]
    },
    {
      "cell_type": "code",
      "execution_count": null,
      "metadata": {},
      "outputs": [
        {
          "name": "stdout",
          "output_type": "stream",
          "text": [
            "Found 9556 files belonging to 5 classes.\n",
            "Using 7645 files for training.\n"
          ]
        }
      ],
      "source": [
        "# Loading training dataset from Drive\n",
        "train_ds = tf.keras.preprocessing.image_dataset_from_directory(\n",
        "  data_dir,\n",
        "  validation_split=0.2,\n",
        "  subset=\"training\",\n",
        "  seed=123,\n",
        "  color_mode='grayscale',\n",
        "  image_size=(img_height, img_width),\n",
        "  batch_size=batch_size)"
      ]
    },
    {
      "cell_type": "code",
      "execution_count": null,
      "metadata": {},
      "outputs": [
        {
          "name": "stdout",
          "output_type": "stream",
          "text": [
            "Found 9556 files belonging to 5 classes.\n",
            "Using 1911 files for validation.\n"
          ]
        }
      ],
      "source": [
        "# Loading validation dataset\n",
        "val_ds = tf.keras.preprocessing.image_dataset_from_directory(\n",
        "  data_dir,\n",
        "  validation_split=0.2,\n",
        "  subset=\"validation\",\n",
        "  seed=123,\n",
        "  color_mode='grayscale',\n",
        "  image_size=(img_height, img_width),\n",
        "  label_mode=\"int\",\n",
        "  batch_size=512)\n"
      ]
    },
    {
      "cell_type": "code",
      "execution_count": null,
      "metadata": {},
      "outputs": [
        {
          "name": "stdout",
          "output_type": "stream",
          "text": [
            "Number of Classes: 5\n",
            "['0_diode', '1_resistor', '2_inductor', '3_capacitor', '5_power']\n"
          ]
        }
      ],
      "source": [
        "class_names = train_ds.class_names\n",
        "print('Number of Classes:',len(class_names))\n",
        "print(class_names)"
      ]
    },
    {
      "cell_type": "code",
      "execution_count": null,
      "metadata": {},
      "outputs": [],
      "source": [
        "normalization_layer = tf.keras.layers.experimental.preprocessing.Rescaling(1./255)\n",
        "\n",
        "AUTOTUNE = tf.data.experimental.AUTOTUNE\n",
        "\n",
        "train_ds = train_ds.cache().prefetch(buffer_size=AUTOTUNE)\n",
        "val_ds = val_ds.cache().prefetch(buffer_size=AUTOTUNE)\n",
        "\n",
        "regularization = 0.0005"
      ]
    },
    {
      "cell_type": "code",
      "execution_count": null,
      "metadata": {},
      "outputs": [],
      "source": [
        "from tensorflow.keras import layers\n",
        "from tensorflow.keras import regularizers\n",
        "\n",
        "model = tf.keras.Sequential([\n",
        "  layers.experimental.preprocessing.Rescaling(1./255),\n",
        "\n",
        "  layers.Conv2D(32, 4, activation='relu', kernel_regularizer=\"l2\"),\n",
        "  layers.MaxPooling2D(),\n",
        "\n",
        "  layers.Conv2D(64, 5, activation='relu', kernel_regularizer=\"l2\"),\n",
        "  layers.MaxPooling2D(),\n",
        "\n",
        "  layers.Conv2D(64, 5, activation='relu', kernel_regularizer=\"l2\"),\n",
        "  layers.MaxPooling2D(),\n",
        "\n",
        "  layers.Conv2D(128, 6, activation='relu', kernel_regularizer=\"l2\"),\n",
        "  layers.MaxPooling2D(),\n",
        "\n",
        "  layers.Flatten(),\n",
        "\n",
        "  layers.Dense(128, activation='relu', kernel_regularizer=\"l2\"),\n",
        "\n",
        "  layers.Dense(len(class_names), activation='softmax', kernel_regularizer=\"l2\")\n",
        "])"
      ]
    },
    {
      "cell_type": "code",
      "execution_count": null,
      "metadata": {},
      "outputs": [],
      "source": [
        "model.compile(\n",
        "  optimizer='adam',\n",
        "  loss=tf.losses.SparseCategoricalCrossentropy(from_logits=True),\n",
        "  metrics=['accuracy'])"
      ]
    },
    {
      "cell_type": "code",
      "execution_count": null,
      "metadata": {},
      "outputs": [
        {
          "name": "stdout",
          "output_type": "stream",
          "text": [
            "Epoch 1/100\n",
            "15/15 [==============================] - 6s 312ms/step - loss: 5.2150 - accuracy: 0.2150 - val_loss: 3.4076 - val_accuracy: 0.2036\n",
            "Epoch 2/100\n",
            "15/15 [==============================] - 4s 244ms/step - loss: 3.0682 - accuracy: 0.2334 - val_loss: 2.4413 - val_accuracy: 0.2255\n",
            "Epoch 3/100\n",
            "15/15 [==============================] - 4s 244ms/step - loss: 2.2339 - accuracy: 0.2737 - val_loss: 1.7380 - val_accuracy: 0.4286\n",
            "Epoch 4/100\n",
            "15/15 [==============================] - 4s 244ms/step - loss: 1.6854 - accuracy: 0.4803 - val_loss: 1.5214 - val_accuracy: 0.4778\n",
            "Epoch 5/100\n",
            "15/15 [==============================] - 4s 244ms/step - loss: 1.4056 - accuracy: 0.5161 - val_loss: 1.2569 - val_accuracy: 0.5406\n",
            "Epoch 6/100\n",
            "15/15 [==============================] - 4s 245ms/step - loss: 1.2581 - accuracy: 0.5602 - val_loss: 1.1345 - val_accuracy: 0.5997\n",
            "Epoch 7/100\n",
            "15/15 [==============================] - 4s 245ms/step - loss: 1.1299 - accuracy: 0.6067 - val_loss: 1.0637 - val_accuracy: 0.6321\n",
            "Epoch 8/100\n",
            "15/15 [==============================] - 4s 244ms/step - loss: 1.0688 - accuracy: 0.6216 - val_loss: 1.0150 - val_accuracy: 0.6572\n",
            "Epoch 9/100\n",
            "15/15 [==============================] - 4s 245ms/step - loss: 1.0175 - accuracy: 0.6464 - val_loss: 0.9670 - val_accuracy: 0.6850\n",
            "Epoch 10/100\n",
            "15/15 [==============================] - 4s 247ms/step - loss: 0.9791 - accuracy: 0.6597 - val_loss: 0.9615 - val_accuracy: 0.6761\n",
            "Epoch 11/100\n",
            "15/15 [==============================] - 4s 246ms/step - loss: 0.9660 - accuracy: 0.6571 - val_loss: 0.9344 - val_accuracy: 0.6719\n",
            "Epoch 12/100\n",
            "15/15 [==============================] - 4s 246ms/step - loss: 0.9401 - accuracy: 0.6774 - val_loss: 0.9461 - val_accuracy: 0.6546\n",
            "Epoch 13/100\n",
            "15/15 [==============================] - 4s 246ms/step - loss: 0.9372 - accuracy: 0.6655 - val_loss: 0.8987 - val_accuracy: 0.6782\n",
            "Epoch 14/100\n",
            "15/15 [==============================] - 4s 246ms/step - loss: 0.8833 - accuracy: 0.7120 - val_loss: 0.8507 - val_accuracy: 0.7190\n",
            "Epoch 15/100\n",
            "15/15 [==============================] - 4s 245ms/step - loss: 0.8936 - accuracy: 0.7037 - val_loss: 0.8590 - val_accuracy: 0.7007\n",
            "Epoch 16/100\n",
            "15/15 [==============================] - 4s 247ms/step - loss: 0.8498 - accuracy: 0.7264 - val_loss: 0.7972 - val_accuracy: 0.7619\n",
            "Epoch 17/100\n",
            "15/15 [==============================] - 4s 246ms/step - loss: 0.8105 - accuracy: 0.7591 - val_loss: 0.7805 - val_accuracy: 0.7650\n",
            "Epoch 18/100\n",
            "15/15 [==============================] - 4s 247ms/step - loss: 0.7730 - accuracy: 0.7796 - val_loss: 0.7909 - val_accuracy: 0.7609\n",
            "Epoch 19/100\n",
            "15/15 [==============================] - 4s 248ms/step - loss: 0.7756 - accuracy: 0.7749 - val_loss: 0.7434 - val_accuracy: 0.7917\n",
            "Epoch 20/100\n",
            "15/15 [==============================] - 4s 247ms/step - loss: 0.7192 - accuracy: 0.8160 - val_loss: 0.7248 - val_accuracy: 0.8142\n",
            "Epoch 21/100\n",
            "15/15 [==============================] - 4s 247ms/step - loss: 0.7176 - accuracy: 0.8161 - val_loss: 0.7190 - val_accuracy: 0.8231\n",
            "Epoch 22/100\n",
            "15/15 [==============================] - 4s 248ms/step - loss: 0.7094 - accuracy: 0.8193 - val_loss: 0.7351 - val_accuracy: 0.8174\n",
            "Epoch 23/100\n",
            "15/15 [==============================] - 4s 248ms/step - loss: 0.6957 - accuracy: 0.8368 - val_loss: 0.6701 - val_accuracy: 0.8566\n",
            "Epoch 24/100\n",
            "15/15 [==============================] - 4s 248ms/step - loss: 0.6563 - accuracy: 0.8588 - val_loss: 0.6662 - val_accuracy: 0.8629\n",
            "Epoch 25/100\n",
            "15/15 [==============================] - 4s 248ms/step - loss: 0.6439 - accuracy: 0.8653 - val_loss: 0.6622 - val_accuracy: 0.8550\n",
            "Epoch 26/100\n",
            "15/15 [==============================] - 4s 247ms/step - loss: 0.6343 - accuracy: 0.8673 - val_loss: 0.6566 - val_accuracy: 0.8587\n",
            "Epoch 27/100\n",
            "15/15 [==============================] - 4s 247ms/step - loss: 0.6364 - accuracy: 0.8714 - val_loss: 0.6353 - val_accuracy: 0.8838\n",
            "Epoch 28/100\n",
            "15/15 [==============================] - 4s 248ms/step - loss: 0.6322 - accuracy: 0.8768 - val_loss: 0.6121 - val_accuracy: 0.8917\n",
            "Epoch 29/100\n",
            "15/15 [==============================] - 4s 247ms/step - loss: 0.6136 - accuracy: 0.8852 - val_loss: 0.6199 - val_accuracy: 0.8891\n",
            "Epoch 30/100\n",
            "15/15 [==============================] - 4s 248ms/step - loss: 0.5852 - accuracy: 0.8980 - val_loss: 0.6121 - val_accuracy: 0.8828\n",
            "Epoch 31/100\n",
            "15/15 [==============================] - 4s 249ms/step - loss: 0.5817 - accuracy: 0.9025 - val_loss: 0.5946 - val_accuracy: 0.8943\n",
            "Epoch 32/100\n",
            "15/15 [==============================] - 4s 248ms/step - loss: 0.5789 - accuracy: 0.9039 - val_loss: 0.6131 - val_accuracy: 0.8849\n",
            "Epoch 33/100\n",
            "15/15 [==============================] - 4s 249ms/step - loss: 0.5838 - accuracy: 0.8993 - val_loss: 0.5749 - val_accuracy: 0.9173\n",
            "Epoch 34/100\n",
            "15/15 [==============================] - 4s 248ms/step - loss: 0.5500 - accuracy: 0.9214 - val_loss: 0.5611 - val_accuracy: 0.9173\n",
            "Epoch 35/100\n",
            "15/15 [==============================] - 4s 248ms/step - loss: 0.5413 - accuracy: 0.9262 - val_loss: 0.5579 - val_accuracy: 0.9236\n",
            "Epoch 36/100\n",
            "15/15 [==============================] - 4s 249ms/step - loss: 0.5373 - accuracy: 0.9251 - val_loss: 0.5603 - val_accuracy: 0.9142\n",
            "Epoch 37/100\n",
            "15/15 [==============================] - 4s 247ms/step - loss: 0.5586 - accuracy: 0.9119 - val_loss: 0.5872 - val_accuracy: 0.9048\n",
            "Epoch 38/100\n",
            "15/15 [==============================] - 4s 248ms/step - loss: 0.5443 - accuracy: 0.9256 - val_loss: 0.6662 - val_accuracy: 0.8629\n",
            "Epoch 39/100\n",
            "15/15 [==============================] - 4s 248ms/step - loss: 0.5863 - accuracy: 0.8993 - val_loss: 0.5961 - val_accuracy: 0.8990\n",
            "Epoch 40/100\n",
            "15/15 [==============================] - 4s 249ms/step - loss: 0.5503 - accuracy: 0.9207 - val_loss: 0.5583 - val_accuracy: 0.9053\n",
            "Epoch 41/100\n",
            "15/15 [==============================] - 4s 248ms/step - loss: 0.5148 - accuracy: 0.9421 - val_loss: 0.5866 - val_accuracy: 0.8938\n",
            "Epoch 42/100\n",
            "15/15 [==============================] - 4s 249ms/step - loss: 0.5202 - accuracy: 0.9330 - val_loss: 0.5590 - val_accuracy: 0.9178\n",
            "Epoch 43/100\n",
            "15/15 [==============================] - 4s 249ms/step - loss: 0.5048 - accuracy: 0.9420 - val_loss: 0.5114 - val_accuracy: 0.9403\n",
            "Epoch 44/100\n",
            "15/15 [==============================] - 4s 249ms/step - loss: 0.4851 - accuracy: 0.9505 - val_loss: 0.5051 - val_accuracy: 0.9440\n",
            "Epoch 45/100\n",
            "15/15 [==============================] - 4s 249ms/step - loss: 0.4760 - accuracy: 0.9563 - val_loss: 0.5097 - val_accuracy: 0.9367\n",
            "Epoch 46/100\n",
            "15/15 [==============================] - 4s 249ms/step - loss: 0.4898 - accuracy: 0.9451 - val_loss: 0.5206 - val_accuracy: 0.9267\n",
            "Epoch 47/100\n",
            "15/15 [==============================] - 4s 249ms/step - loss: 0.5046 - accuracy: 0.9385 - val_loss: 0.5034 - val_accuracy: 0.9466\n",
            "Epoch 48/100\n",
            "15/15 [==============================] - 4s 249ms/step - loss: 0.4803 - accuracy: 0.9482 - val_loss: 0.5113 - val_accuracy: 0.9414\n",
            "Epoch 49/100\n",
            "15/15 [==============================] - 4s 250ms/step - loss: 0.4646 - accuracy: 0.9587 - val_loss: 0.5149 - val_accuracy: 0.9341\n",
            "Epoch 50/100\n",
            "15/15 [==============================] - 4s 249ms/step - loss: 0.4783 - accuracy: 0.9515 - val_loss: 0.4958 - val_accuracy: 0.9461\n",
            "Epoch 51/100\n",
            "15/15 [==============================] - 4s 248ms/step - loss: 0.4745 - accuracy: 0.9524 - val_loss: 0.4962 - val_accuracy: 0.9424\n",
            "Epoch 52/100\n",
            "15/15 [==============================] - 4s 250ms/step - loss: 0.4602 - accuracy: 0.9629 - val_loss: 0.4819 - val_accuracy: 0.9540\n",
            "Epoch 53/100\n",
            "15/15 [==============================] - 4s 249ms/step - loss: 0.4516 - accuracy: 0.9650 - val_loss: 0.4916 - val_accuracy: 0.9487\n",
            "Epoch 54/100\n",
            "15/15 [==============================] - 4s 250ms/step - loss: 0.4490 - accuracy: 0.9658 - val_loss: 0.4936 - val_accuracy: 0.9419\n",
            "Epoch 55/100\n",
            "15/15 [==============================] - 4s 249ms/step - loss: 0.4525 - accuracy: 0.9616 - val_loss: 0.4787 - val_accuracy: 0.9503\n",
            "Epoch 56/100\n",
            "15/15 [==============================] - 4s 249ms/step - loss: 0.4560 - accuracy: 0.9578 - val_loss: 0.4843 - val_accuracy: 0.9466\n",
            "Epoch 57/100\n",
            "15/15 [==============================] - 4s 248ms/step - loss: 0.4433 - accuracy: 0.9692 - val_loss: 0.4796 - val_accuracy: 0.9534\n",
            "Epoch 58/100\n",
            "15/15 [==============================] - 4s 249ms/step - loss: 0.4493 - accuracy: 0.9641 - val_loss: 0.4776 - val_accuracy: 0.9529\n",
            "Epoch 59/100\n",
            "15/15 [==============================] - 4s 250ms/step - loss: 0.4438 - accuracy: 0.9668 - val_loss: 0.4839 - val_accuracy: 0.9492\n",
            "Epoch 60/100\n",
            "15/15 [==============================] - 4s 249ms/step - loss: 0.4527 - accuracy: 0.9574 - val_loss: 0.5254 - val_accuracy: 0.9168\n",
            "Epoch 61/100\n",
            "15/15 [==============================] - 4s 249ms/step - loss: 0.4774 - accuracy: 0.9427 - val_loss: 0.5461 - val_accuracy: 0.9205\n",
            "Epoch 62/100\n",
            "15/15 [==============================] - 4s 248ms/step - loss: 0.4990 - accuracy: 0.9374 - val_loss: 0.5012 - val_accuracy: 0.9409\n",
            "Epoch 63/100\n",
            "15/15 [==============================] - 4s 249ms/step - loss: 0.4629 - accuracy: 0.9565 - val_loss: 0.4724 - val_accuracy: 0.9513\n",
            "Epoch 64/100\n",
            "15/15 [==============================] - 4s 249ms/step - loss: 0.4446 - accuracy: 0.9658 - val_loss: 0.4995 - val_accuracy: 0.9320\n",
            "Epoch 65/100\n",
            "15/15 [==============================] - 4s 249ms/step - loss: 0.4584 - accuracy: 0.9571 - val_loss: 0.5066 - val_accuracy: 0.9283\n",
            "Epoch 66/100\n",
            "15/15 [==============================] - 4s 249ms/step - loss: 0.4465 - accuracy: 0.9612 - val_loss: 0.5045 - val_accuracy: 0.9314\n",
            "Epoch 67/100\n",
            "15/15 [==============================] - 4s 249ms/step - loss: 0.4392 - accuracy: 0.9661 - val_loss: 0.4749 - val_accuracy: 0.9430\n",
            "Epoch 68/100\n",
            "15/15 [==============================] - 4s 250ms/step - loss: 0.4213 - accuracy: 0.9766 - val_loss: 0.4576 - val_accuracy: 0.9545\n",
            "Epoch 69/100\n",
            "15/15 [==============================] - 4s 250ms/step - loss: 0.4067 - accuracy: 0.9813 - val_loss: 0.4569 - val_accuracy: 0.9513\n",
            "Epoch 70/100\n",
            "15/15 [==============================] - 4s 249ms/step - loss: 0.4080 - accuracy: 0.9785 - val_loss: 0.4558 - val_accuracy: 0.9576\n",
            "Epoch 71/100\n",
            "15/15 [==============================] - 4s 250ms/step - loss: 0.4112 - accuracy: 0.9748 - val_loss: 0.4597 - val_accuracy: 0.9513\n",
            "Epoch 72/100\n",
            "15/15 [==============================] - 4s 249ms/step - loss: 0.4139 - accuracy: 0.9759 - val_loss: 0.4515 - val_accuracy: 0.9534\n",
            "Epoch 73/100\n",
            "15/15 [==============================] - 4s 250ms/step - loss: 0.4105 - accuracy: 0.9778 - val_loss: 0.4606 - val_accuracy: 0.9445\n",
            "Epoch 74/100\n",
            "15/15 [==============================] - 4s 251ms/step - loss: 0.4080 - accuracy: 0.9768 - val_loss: 0.4671 - val_accuracy: 0.9456\n",
            "Epoch 75/100\n",
            "15/15 [==============================] - 4s 250ms/step - loss: 0.4137 - accuracy: 0.9728 - val_loss: 0.4752 - val_accuracy: 0.9409\n",
            "Epoch 76/100\n",
            "15/15 [==============================] - 4s 251ms/step - loss: 0.4175 - accuracy: 0.9679 - val_loss: 0.4607 - val_accuracy: 0.9451\n",
            "Epoch 77/100\n",
            "15/15 [==============================] - 4s 250ms/step - loss: 0.4139 - accuracy: 0.9746 - val_loss: 0.4538 - val_accuracy: 0.9534\n",
            "Epoch 78/100\n",
            "15/15 [==============================] - 4s 250ms/step - loss: 0.4024 - accuracy: 0.9762 - val_loss: 0.4737 - val_accuracy: 0.9424\n",
            "Epoch 79/100\n",
            "15/15 [==============================] - 4s 250ms/step - loss: 0.4101 - accuracy: 0.9729 - val_loss: 0.5059 - val_accuracy: 0.9267\n",
            "Epoch 80/100\n",
            "15/15 [==============================] - 4s 249ms/step - loss: 0.4256 - accuracy: 0.9644 - val_loss: 0.5596 - val_accuracy: 0.9053\n",
            "Epoch 81/100\n",
            "15/15 [==============================] - 4s 250ms/step - loss: 0.4367 - accuracy: 0.9620 - val_loss: 0.4538 - val_accuracy: 0.9613\n",
            "Epoch 82/100\n",
            "15/15 [==============================] - 4s 250ms/step - loss: 0.4070 - accuracy: 0.9779 - val_loss: 0.4439 - val_accuracy: 0.9550\n",
            "Epoch 83/100\n",
            "15/15 [==============================] - 4s 250ms/step - loss: 0.3888 - accuracy: 0.9862 - val_loss: 0.4335 - val_accuracy: 0.9618\n",
            "Epoch 84/100\n",
            "15/15 [==============================] - 4s 251ms/step - loss: 0.3912 - accuracy: 0.9804 - val_loss: 0.4429 - val_accuracy: 0.9592\n",
            "Epoch 85/100\n",
            "15/15 [==============================] - 4s 250ms/step - loss: 0.3928 - accuracy: 0.9788 - val_loss: 0.4330 - val_accuracy: 0.9639\n",
            "Epoch 86/100\n",
            "15/15 [==============================] - 4s 249ms/step - loss: 0.3979 - accuracy: 0.9774 - val_loss: 0.4436 - val_accuracy: 0.9498\n",
            "Epoch 87/100\n",
            "15/15 [==============================] - 4s 250ms/step - loss: 0.4034 - accuracy: 0.9755 - val_loss: 0.4776 - val_accuracy: 0.9341\n",
            "Epoch 88/100\n",
            "15/15 [==============================] - 4s 249ms/step - loss: 0.4309 - accuracy: 0.9598 - val_loss: 0.4898 - val_accuracy: 0.9414\n",
            "Epoch 89/100\n",
            "15/15 [==============================] - 4s 249ms/step - loss: 0.4593 - accuracy: 0.9509 - val_loss: 0.4892 - val_accuracy: 0.9341\n",
            "Epoch 90/100\n",
            "15/15 [==============================] - 4s 249ms/step - loss: 0.4349 - accuracy: 0.9598 - val_loss: 0.5034 - val_accuracy: 0.9236\n",
            "Epoch 91/100\n",
            "15/15 [==============================] - 4s 249ms/step - loss: 0.4283 - accuracy: 0.9649 - val_loss: 0.5248 - val_accuracy: 0.9220\n",
            "Epoch 92/100\n",
            "15/15 [==============================] - 4s 249ms/step - loss: 0.4564 - accuracy: 0.9505 - val_loss: 0.4780 - val_accuracy: 0.9440\n",
            "Epoch 93/100\n",
            "15/15 [==============================] - 4s 249ms/step - loss: 0.4376 - accuracy: 0.9653 - val_loss: 0.5014 - val_accuracy: 0.9362\n",
            "Epoch 94/100\n",
            "15/15 [==============================] - 4s 250ms/step - loss: 0.4155 - accuracy: 0.9713 - val_loss: 0.4837 - val_accuracy: 0.9419\n",
            "Epoch 95/100\n",
            "15/15 [==============================] - 4s 249ms/step - loss: 0.4030 - accuracy: 0.9771 - val_loss: 0.4722 - val_accuracy: 0.9435\n",
            "Epoch 96/100\n",
            "15/15 [==============================] - 4s 250ms/step - loss: 0.4099 - accuracy: 0.9714 - val_loss: 0.4649 - val_accuracy: 0.9471\n",
            "Epoch 97/100\n",
            "15/15 [==============================] - 4s 249ms/step - loss: 0.4063 - accuracy: 0.9747 - val_loss: 0.4709 - val_accuracy: 0.9440\n",
            "Epoch 98/100\n",
            "15/15 [==============================] - 4s 249ms/step - loss: 0.4063 - accuracy: 0.9781 - val_loss: 0.4649 - val_accuracy: 0.9461\n",
            "Epoch 99/100\n",
            "15/15 [==============================] - 4s 250ms/step - loss: 0.3997 - accuracy: 0.9774 - val_loss: 0.4433 - val_accuracy: 0.9592\n",
            "Epoch 100/100\n",
            "15/15 [==============================] - 4s 249ms/step - loss: 0.3944 - accuracy: 0.9797 - val_loss: 0.4328 - val_accuracy: 0.9597\n"
          ]
        }
      ],
      "source": [
        "history = model.fit(\n",
        "            train_ds,\n",
        "            validation_data=val_ds,\n",
        "            epochs=100)"
      ]
    },
    {
      "cell_type": "code",
      "execution_count": null,
      "metadata": {},
      "outputs": [
        {
          "data": {
            "image/png": "[encoded data removed]",
            "text/plain": [
              "<Figure size 432x288 with 1 Axes>"
            ]
          },
          "metadata": {},
          "output_type": "display_data"
        },
        {
          "data": {
            "image/png": "[encoded data removed]",
            "text/plain": [
              "<Figure size 432x288 with 1 Axes>"
            ]
          },
          "metadata": {},
          "output_type": "display_data"
        }
      ],
      "source": [
        "plt.subplots(1)\n",
        "plt.plot(history.history['accuracy'])\n",
        "plt.plot(history.history['val_accuracy'])\n",
        "plt.title(\"Accuracy and Val. Accuracy\")\n",
        "plt.grid(b=True)\n",
        "plt.legend([\"Traning\", \"Validation\"])\n",
        "plt.ylabel(\"Accuracy (%)\")\n",
        "plt.xlabel(\"EPOCH\")\n",
        "\n",
        "\n",
        "plt.subplots(1)\n",
        "plt.plot(history.history['loss'])\n",
        "plt.plot(history.history['val_loss'])\n",
        "# plt.yscale('log')\n",
        "plt.legend([\"Traning\", \"Validation\"])\n",
        "plt.title(\"Loss and Val. Loss\")\n",
        "plt.ylabel(\"SCCE Loss\")\n",
        "plt.xlabel(\"EPOCH\")\n",
        "plt.grid(b=True, which='both')"
      ]
    },
    {
      "cell_type": "code",
      "execution_count": null,
      "metadata": {},
      "outputs": [
        {
          "name": "stdout",
          "output_type": "stream",
          "text": [
            "INFO:tensorflow:Assets written to: /content/drive/My Drive/3020_drive/Models/9000_1000_epocs_8_layers/assets\n"
          ]
        }
      ],
      "source": [
        "model.save('models/9000_1000_epocs_8_layers/')"
      ]
    },
    {
      "cell_type": "code",
      "execution_count": null,
      "metadata": {},
      "outputs": [],
      "source": [
        "#@markdown\n",
        "import os\n",
        "\n",
        "test_dir = 'dataset/test_set'\n",
        "# test_dir = \"/content/drive/My Drive/3020_drive/Data/Devset_13/\"\n",
        "\n",
        "\n",
        "print('\\tFILE:\\t |\\tPREDICTIONS\\t |\\t' + str(class_names) )\n",
        "print('-----------------------------------------------------------------------------------------------------------------------')\n",
        "for folder in os.listdir(test_dir):\n",
        "    for file in os.listdir(test_dir + folder):\n",
        "        img = tf.keras.preprocessing.image.load_img(\n",
        "            f'{test_dir}{folder}/{file}',\n",
        "            target_size=(img_width, img_height),\n",
        "            color_mode='grayscale')\n",
        "        x = tf.keras.preprocessing.image.img_to_array(img)\n",
        "        x = np.expand_dims(x, axis=0)\n",
        "\n",
        "        try:\n",
        "            prediction = model.predict(x)\n",
        "            classes = np.argmax(prediction, axis=-1)\n",
        "\n",
        "            print(file + '\\t |\\t ' + class_names[int(classes)] + '\\t |\\t ' + str(prediction))\n",
        "            print('\\t\\t |\\t\\t\\t |')\n",
        "        except:\n",
        "            pass\n"
      ]
    },
    {
      "cell_type": "code",
      "execution_count": null,
      "metadata": {},
      "outputs": [],
      "source": [
        "model = tf.keras.models.load_model('models/9000_1000_epocs_8_layers/')"
      ]
    },
    {
      "cell_type": "code",
      "execution_count": null,
      "metadata": {},
      "outputs": [
        {
          "name": "stdout",
          "output_type": "stream",
          "text": [
            "Model: \"sequential_15\"\n",
            "_________________________________________________________________\n",
            "Layer (type)                 Output Shape              Param #   \n",
            "=================================================================\n",
            "rescaling_18 (Rescaling)     (None, 128, 128, 1)       0         \n",
            "_________________________________________________________________\n",
            "conv2d_59 (Conv2D)           (None, 123, 123, 32)      1184      \n",
            "_________________________________________________________________\n",
            "max_pooling2d_59 (MaxPooling (None, 61, 61, 32)        0         \n",
            "_________________________________________________________________\n",
            "conv2d_60 (Conv2D)           (None, 57, 57, 64)        51264     \n",
            "_________________________________________________________________\n",
            "max_pooling2d_60 (MaxPooling (None, 28, 28, 64)        0         \n",
            "_________________________________________________________________\n",
            "conv2d_61 (Conv2D)           (None, 24, 24, 64)        102464    \n",
            "_________________________________________________________________\n",
            "max_pooling2d_61 (MaxPooling (None, 12, 12, 64)        0         \n",
            "_________________________________________________________________\n",
            "conv2d_62 (Conv2D)           (None, 9, 9, 128)         131200    \n",
            "_________________________________________________________________\n",
            "max_pooling2d_62 (MaxPooling (None, 4, 4, 128)         0         \n",
            "_________________________________________________________________\n",
            "flatten_15 (Flatten)         (None, 2048)              0         \n",
            "_________________________________________________________________\n",
            "dense_30 (Dense)             (None, 128)               262272    \n",
            "_________________________________________________________________\n",
            "dense_31 (Dense)             (None, 5)                 645       \n",
            "=================================================================\n",
            "Total params: 549,029\n",
            "Trainable params: 549,029\n",
            "Non-trainable params: 0\n",
            "_________________________________________________________________\n",
            "4/4 [==============================] - 3s 52ms/step - loss: 0.2016 - accuracy: 0.9649\n"
          ]
        },
        {
          "data": {
            "text/plain": [
              "[0.20160211622714996, 0.9649398326873779]"
            ]
          },
          "metadata": {},
          "output_type": "display_data"
        }
      ],
      "source": [
        "from sklearn import metrics\n",
        "\n",
        "model.summary()\n",
        "model.evaluate(val_ds,  batch_size=512, verbose=1)"
      ]
    },
    {
      "cell_type": "code",
      "execution_count": null,
      "metadata": {},
      "outputs": [],
      "source": [
        "import itertools\n",
        "\n",
        "def plot_confusion_matrix(cm, classes,\n",
        "                        normalize=False,\n",
        "                        title='Confusion matrix',\n",
        "                        cmap=plt.cm.Blues):\n",
        "    \"\"\"\n",
        "    This function prints and plots the confusion matrix.\n",
        "    Normalization can be applied by setting `normalize=True`.\n",
        "    \"\"\"\n",
        "    plt.imshow(cm, interpolation='nearest', cmap=cmap)\n",
        "    plt.title(title)\n",
        "    plt.colorbar()\n",
        "    tick_marks = np.arange(len(classes))\n",
        "    plt.xticks(tick_marks, classes, rotation=45)\n",
        "    plt.yticks(tick_marks, classes)\n",
        "\n",
        "    if normalize:\n",
        "        cm = cm.astype('float') / cm.sum(axis=1)[:, np.newaxis]\n",
        "        print(\"Normalized confusion matrix\")\n",
        "    else:\n",
        "        print('Confusion matrix, without normalization')\n",
        "\n",
        "    thresh = cm.max() / 2.\n",
        "    for i, j in itertools.product(range(cm.shape[0]), range(cm.shape[1])):\n",
        "        plt.text(j, i, cm[i, j],\n",
        "            horizontalalignment=\"center\",\n",
        "            color=\"white\" if cm[i, j] > thresh else \"black\")\n",
        "\n",
        "    plt.tight_layout()\n",
        "    plt.ylabel('True label')\n",
        "    plt.xlabel('Predicted label')\n"
      ]
    },
    {
      "cell_type": "code",
      "execution_count": null,
      "metadata": {},
      "outputs": [],
      "source": [
        "predictions = np.array([])\n",
        "labels =  np.array([])\n",
        "for x, y in val_ds:\n",
        "    predictions = np.concatenate([predictions, np.argmax(model.predict(x), axis=-1)])\n",
        "    labels = np.concatenate([labels, np.array(y)])\n",
        "\n",
        "cm = tf.math.confusion_matrix(labels=labels, predictions=predictions).numpy()"
      ]
    },
    {
      "cell_type": "code",
      "execution_count": null,
      "metadata": {},
      "outputs": [],
      "source": [
        "class_names = ['diode', 'resistor', 'inductor', 'capacitor', 'dc source']\n",
        "\n",
        "plot_confusion_matrix(cm=cm, classes=class_names, title='Confusion Matrix',)"
      ]
    },
    {
      "cell_type": "code",
      "execution_count": null,
      "metadata": {},
      "outputs": [
        {
          "name": "stdout",
          "output_type": "stream",
          "text": [
            "              precision    recall  f1-score   support\n",
            "\n",
            "         0.0       0.99      0.99      0.99       377\n",
            "         1.0       0.97      0.90      0.93       407\n",
            "         2.0       0.92      0.97      0.95       393\n",
            "         3.0       0.98      0.97      0.98       366\n",
            "         4.0       0.97      0.99      0.98       368\n",
            "\n",
            "    accuracy                           0.96      1911\n",
            "   macro avg       0.97      0.97      0.97      1911\n",
            "weighted avg       0.97      0.96      0.96      1911\n",
            "\n"
          ]
        }
      ],
      "source": [
        "print(metrics.classification_report(y_true=labels, y_pred=predictions))"
      ]
    },
    {
      "cell_type": "code",
      "execution_count": null,
      "metadata": {},
      "outputs": [],
      "source": [
        "# metrics for previous work done\n",
        "class_names = ['diode', 'resistor', 'inductor', 'capacitor', 'dc source']\n",
        "f1 = lambda precision, recall: round(2*(precision*recall)/(precision+recall),2)"
      ]
    },
    {
      "cell_type": "code",
      "execution_count": null,
      "metadata": {},
      "outputs": [],
      "source": [
        "proposed = [0.99, 0.93,0.95,0.98,0.98,]\n",
        "gunay = [0, f1(0.81,0.72),f1(1,0.81),f1(0.65,0.81),f1(1, 0.87)]\n",
        "naika = [0.98, 0.99, 0, 0.99, 0.99]\n",
        "aksakalli = [1, f1(0.831,0.92),f1(0.91,0.812),0,0]"
      ]
    },
    {
      "cell_type": "code",
      "execution_count": null,
      "metadata": {},
      "outputs": [
        {
          "data": {
            "text/plain": [
              "<matplotlib.legend.Legend at 0x7f831a8a9310>"
            ]
          },
          "metadata": {},
          "output_type": "display_data"
        },
        {
          "data": {
            "image/png": "[encoded data removed]",
            "text/plain": [
              "<Figure size 648x360 with 1 Axes>"
            ]
          },
          "metadata": {},
          "output_type": "display_data"
        }
      ],
      "source": [
        "import pandas as pd\n",
        "\n",
        "df = pd.DataFrame({\n",
        "                   'Proposed Method': proposed,\n",
        "                   'Gunay et al.(2020)': gunay,\n",
        "                   'Naika et al. (2019)': naika,\n",
        "                   'Aksakalli (2018)': aksakalli\n",
        "                   },index=class_names)\n",
        "\n",
        "ax = df.plot.bar(rot=45,width=0.4,figsize=(9,5))\n",
        "ax.set_axisbelow(True)\n",
        "plt.grid(True)\n",
        "plt.ylim(0.65)\n",
        "plt.yscale(\"linear\")\n",
        "plt.ylabel(\"F1 Score\")\n",
        "plt.legend(loc=\"upper center\", ncol=(len(df.columns)),)\n"
      ]
    }
  ],
  "metadata": {
    "accelerator": "GPU",
    "colab": {
      "authorship_tag": "ABX9TyPtVBXCJXDDzygkQJ9/dGZR",
      "include_colab_link": true,
      "mount_file_id": "1P0IZhL9bRcth587Tak_F9jVDcLWUcSG-",
      "name": "neural-network.ipynb",
      "provenance": []
    },
    "kernelspec": {
      "display_name": "Python 3",
      "name": "python3"
    }
  },
  "nbformat": 4,
  "nbformat_minor": 0
}
