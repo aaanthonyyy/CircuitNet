{
  "cells": [
    {
      "cell_type": "code",
      "execution_count": null,
      "metadata": {},
      "outputs": [],
      "source": [
        "netlist = {\n",
        "    0: [\n",
        "        {\n",
        "            \"component\": {\n",
        "                \"type\": \"inductor\",\n",
        "                \"location\": (773, 345),\n",
        "                \"orientation\": \"v\",\n",
        "                \"nodes\": [3, 0]\n",
        "            },\n",
        "        },\n",
        "        {\n",
        "            \"component\": {\n",
        "                \"type\": \"resistor\",\n",
        "                \"location\": (428, 380),\n",
        "                \"orientation\": \"v\",\n",
        "                \"nodes\": [1, 0]\n",
        "            },\n",
        "        },\n",
        "        {\n",
        "            \"component\": {\n",
        "                \"type\": \"source\",\n",
        "                \"location\": (85, 408),\n",
        "                \"orientation\": \"v\",\n",
        "                \"nodes\": [2, 0]\n",
        "            },\n",
        "        },\n",
        "    ],\n",
        "    1: [\n",
        "        {\n",
        "            \"component\": {\n",
        "                \"type\": \"resistor\",\n",
        "                \"location\": (428, 380),\n",
        "                \"orientation\": \"v\",\n",
        "                \"nodes\": [1, 0]\n",
        "            },\n",
        "        },\n",
        "        {\n",
        "            \"component\": {\n",
        "                \"type\": \"resistor\",\n",
        "                \"location\": (277, 281),\n",
        "                \"orientation\": \"h\",\n",
        "                \"nodes\": [1, 2]\n",
        "            },\n",
        "        },\n",
        "        {\n",
        "            \"component\": {\n",
        "                \"type\": \"resistor\",\n",
        "                \"location\": (579, 146),\n",
        "                \"orientation\": \"h\",\n",
        "                \"nodes\": [3, 1]\n",
        "            },\n",
        "        },\n",
        "    ],\n",
        "    2: [\n",
        "        {\n",
        "            \"component\": {\n",
        "                \"type\": \"source\",\n",
        "                \"location\": (85, 408),\n",
        "                \"orientation\": \"v\",\n",
        "                \"nodes\": [2, 0]\n",
        "            },\n",
        "        },\n",
        "        {\n",
        "            \"component\": {\n",
        "                \"type\": \"resistor\",\n",
        "                \"location\": (277, 281),\n",
        "                \"orientation\": \"h\",\n",
        "                \"nodes\": [1, 2]\n",
        "            },\n",
        "        },\n",
        "    ],\n",
        "    3: [\n",
        "        {\n",
        "            \"component\": {\n",
        "                \"type\": \"inductor\",\n",
        "                \"location\": (773, 345),\n",
        "                \"orientation\": \"v\",\n",
        "                \"nodes\": [3, 0]\n",
        "            },\n",
        "        },\n",
        "        {\n",
        "            \"component\": {\n",
        "                \"type\": \"resistor\",\n",
        "                \"location\": (579, 146),\n",
        "                \"orientation\": \"h\",\n",
        "                \"nodes\": [3, 1]\n",
        "            },\n",
        "        },\n",
        "    ]\n",
        "}"
      ]
    },
    {
      "cell_type": "code",
      "execution_count": null,
      "metadata": {},
      "outputs": [
        {
          "name": "stdout",
          "output_type": "stream",
          "text": [
            "\u001b[?25l\r\u001b[K     |███████▏                        | 10kB 19.4MB/s eta 0:00:01\r\u001b[K     |██████████████▍                 | 20kB 17.6MB/s eta 0:00:01\r\u001b[K     |█████████████████████▌          | 30kB 11.4MB/s eta 0:00:01\r\u001b[K     |████████████████████████████▊   | 40kB 11.6MB/s eta 0:00:01\r\u001b[K     |████████████████████████████████| 51kB 3.9MB/s \n",
            "\u001b[K     |████████████████████████████████| 71kB 5.4MB/s \n",
            "\u001b[K     |████████████████████████████████| 61kB 4.9MB/s \n",
            "\u001b[K     |████████████████████████████████| 51kB 2.5MB/s \n",
            "\u001b[K     |████████████████████████████████| 71kB 3.1MB/s \n",
            "\u001b[?25h  Building wheel for cairocffi (setup.py) ... \u001b[?25l\u001b[?25hdone\n"
          ]
        }
      ],
      "source": [
        "!pip install -q svg_schematic\n",
        "!pip3 install -q cairosvg"
      ]
    },
    {
      "cell_type": "code",
      "execution_count": null,
      "metadata": {},
      "outputs": [
        {
          "name": "stdout",
          "output_type": "stream",
          "text": [
            "(3, 4)\n"
          ]
        }
      ],
      "source": [
        "from svg_schematic import Diode\n",
        "\n",
        "symbol = Diode(C=(271, 213), orient=\"h\")\n",
        "\n",
        "\n",
        "symbol.p = (3,4)\n",
        "print(symbol.p )"
      ]
    },
    {
      "cell_type": "code",
      "execution_count": null,
      "metadata": {},
      "outputs": [],
      "source": [
        "def generate_cad(netlist):\n",
        "    from svg_schematic import Schematic, Resistor, Capacitor,\\\n",
        "     Inductor, Source, Diode, Wire\n",
        "    from inform import Error, error, os_error\n",
        "    import cairosvg\n",
        "\n",
        "    with Schematic(filename='circuit_test.svg'):\n",
        "        for node in netlist:\n",
        "            components = netlist[node]\n",
        "\n",
        "            nodes = []\n",
        "            for component in components:\n",
        "\n",
        "                symbol = component[\"type\"]\n",
        "                location = component[\"coordinate\"]\n",
        "                orientation = component[\"orientation\"]\n",
        "\n",
        "                # Reistor\n",
        "                if symbol == \"resistor\":\n",
        "                    symbol = Resistor(C=location, orient=orientation)\n",
        "\n",
        "                # Inductor\n",
        "                elif symbol == \"inductor\":\n",
        "                    symbol = Inductor(C=location, orient=orientation)\n",
        "\n",
        "                # Capacitor\n",
        "                elif symbol == \"capacitor\":\n",
        "                    symbol = Capacitor(C=location, orient=orientation)\n",
        "\n",
        "                # Power Supply\n",
        "                elif symbol == \"source\":\n",
        "                    symbol = Source(C=location, orient=orientation, kind=\"vdc\")\n",
        "\n",
        "                # Diode\n",
        "                elif symbol == \"diode\":\n",
        "                    symbol = Diode(C=location, orient=orientation)\n",
        "                    symbol.p = symbol.a\n",
        "                    symbol.n = symbol.c\n",
        "\n",
        "                # Component not recognized\n",
        "                else:\n",
        "                    continue\n",
        "\n",
        "                # getting negative or positive end of component\n",
        "                if node == component[\"nodes\"][1]:\n",
        "                    nodes.append(symbol.p)\n",
        "                elif node == component[\"nodes\"][0]:\n",
        "                    nodes.append(symbol.n)\n",
        "                else:\n",
        "                    continue\n",
        "\n",
        "                Wire(nodes, \"-|\")\n",
        "\n",
        "    cairosvg.svg2png(url=\"/content/circuit_test.svg\",\n",
        "                     write_to=\"/content/generated_schematic.png\")"
      ]
    },
    {
      "cell_type": "code",
      "execution_count": null,
      "metadata": {},
      "outputs": [],
      "source": [
        "import json\n",
        "\n",
        "with open('netlist.json', 'w') as fp:\n",
        "    json.dump(netlist, fp)"
      ]
    },
    {
      "cell_type": "code",
      "execution_count": null,
      "metadata": {},
      "outputs": [],
      "source": [
        "with open('netlist.json', 'r') as file:\n",
        "    netlistJson = json.load(file)"
      ]
    },
    {
      "cell_type": "code",
      "execution_count": null,
      "metadata": {},
      "outputs": [],
      "source": [
        "generate_cad(netlist)"
      ]
    }
  ],
  "metadata": {
    "colab": {
      "authorship_tag": "ABX9TyO9WdM/kw8e8pnRtUyPHfPF",
      "collapsed_sections": [],
      "include_colab_link": true,
      "name": "generation-API",
      "provenance": []
    },
    "kernelspec": {
      "display_name": "Python 3",
      "name": "python3"
    }
  },
  "nbformat": 4,
  "nbformat_minor": 0
}
